{
  "nbformat": 4,
  "nbformat_minor": 0,
  "metadata": {
    "colab": {
      "provenance": [],
      "authorship_tag": "ABX9TyPLmrdIxXlp0UYqs3tBrhal",
      "include_colab_link": true
    },
    "kernelspec": {
      "name": "python3",
      "display_name": "Python 3"
    },
    "language_info": {
      "name": "python"
    }
  },
  "cells": [
    {
      "cell_type": "markdown",
      "metadata": {
        "id": "view-in-github",
        "colab_type": "text"
      },
      "source": [
        "<a href=\"https://colab.research.google.com/github/Eliecer91/Eliecer91.github.io/blob/main/Panda_I_O.ipynb\" target=\"_parent\"><img src=\"https://colab.research.google.com/assets/colab-badge.svg\" alt=\"Open In Colab\"/></a>"
      ]
    },
    {
      "cell_type": "markdown",
      "source": [
        "##**Alula 1: Leyendo Archivos CSV**"
      ],
      "metadata": {
        "id": "UvlhygnX15Sv"
      }
    },
    {
      "cell_type": "markdown",
      "source": [
        "###**Importando Archivos CSV**"
      ],
      "metadata": {
        "id": "hfjyPwhd2mCf"
      }
    },
    {
      "cell_type": "code",
      "execution_count": null,
      "metadata": {
        "id": "TD69z6xl1qAX"
      },
      "outputs": [],
      "source": []
    }
  ]
}